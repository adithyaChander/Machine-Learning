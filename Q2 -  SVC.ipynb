{
 "cells": [
  {
   "cell_type": "code",
   "execution_count": 35,
   "metadata": {
    "collapsed": false
   },
   "outputs": [],
   "source": [
    "import csv\n",
    "import numpy as np\n",
    "from sklearn.cross_validation import KFold\n",
    "from sklearn.metrics import accuracy_score\n",
    "from sklearn import tree"
   ]
  },
  {
   "cell_type": "code",
   "execution_count": 36,
   "metadata": {
    "collapsed": true
   },
   "outputs": [],
   "source": [
    "def findCommunities():\n",
    "    communities = []\n",
    "    with open('C:\\\\Users\\\\ar1\\\\Documents\\ML\\\\Project\\\\Crime Prediction Data(1)\\\\Crime Prediction Data\\\\communities-crime-clean.csv', 'r') as csvfile:\n",
    "        filereader = csv.reader(csvfile)\n",
    "        j = 0\n",
    "        for i in filereader:\n",
    "            if j > 0:\n",
    "                if i[1] not in communities:\n",
    "                    communities.append(i[1])\n",
    "            j+=1\n",
    "    return communities\n"
   ]
  },
  {
   "cell_type": "code",
   "execution_count": 86,
   "metadata": {
    "collapsed": true
   },
   "outputs": [],
   "source": [
    "def extractData(filename,communities,addstate = False,addcommunity = False):\n",
    "    features = []\n",
    "    x=[]\n",
    "    y=[]\n",
    "    with open(filename, 'r') as csvfile:\n",
    "        filereader = csv.reader(csvfile)\n",
    "        j = 0\n",
    "        for i in filereader:\n",
    "            if j > 0:\n",
    "                data = i[3:len(i)-1]\n",
    "                if addstate:\n",
    "                    state = [0.0]*56\n",
    "                    state[int(i[0])-1] = 1.0\n",
    "                    data = data + state\n",
    "                    features = features + [\"state\"+str(i) for i in range(56)]\n",
    "                if addcommunity:\n",
    "                    tmp = [0.0]*len(communities)\n",
    "                    tmp[communities.index(i[1])] = 1.0\n",
    "                    data = data + tmp\n",
    "                    features = features + communities\n",
    "                vect = np.array(data)\n",
    "                #vect = np.array(i[3:len(i)-1])\n",
    "                x.append(vect.astype(np.float))\n",
    "                if float(i[-1]) > 0.1:\n",
    "                    y.append(1)\n",
    "                else:\n",
    "                    y.append(0)\n",
    "            else:\n",
    "                features = i[3:len(i)-1]\n",
    "            j+=1\n",
    "        y = np.array(y)\n",
    "        x = np.array(x)\n",
    "        features = np.array(features)\n",
    "        return x,y,features\n"
   ]
  },
  {
   "cell_type": "code",
   "execution_count": 87,
   "metadata": {
    "collapsed": true
   },
   "outputs": [],
   "source": [
    "def calcualtePercentage(labels):\n",
    "    n = len(labels)\n",
    "    sumTrue = sum(labels)*1.0\n",
    "    sumFalse = (n - sumTrue)*1.0\n",
    "    return sumTrue/n,sumFalse/n\n"
   ]
  },
  {
   "cell_type": "code",
   "execution_count": 88,
   "metadata": {
    "collapsed": true
   },
   "outputs": [],
   "source": [
    "# Gaussian. To be put in a seperate file\n",
    "def gaussianNB():\n",
    "    return GaussianNB()\n"
   ]
  },
  {
   "cell_type": "code",
   "execution_count": 89,
   "metadata": {
    "collapsed": true
   },
   "outputs": [],
   "source": [
    "def linearSVC():\n",
    "    return LinearSVC(penalty='l2', loss='squared_hinge', dual=True, tol=0.0001, C=1.0, multi_class='ovr', \n",
    "                     fit_intercept=True, intercept_scaling=1, class_weight=None, verbose=0, random_state=None,\n",
    "                     max_iter=1000)"
   ]
  },
  {
   "cell_type": "code",
   "execution_count": 90,
   "metadata": {
    "collapsed": true
   },
   "outputs": [],
   "source": [
    "\n",
    "def confusionMatrix(true,predicted,labels = [1,0]):\n",
    "    return confusion_matrix(true,predicted,labels)\n"
   ]
  },
  {
   "cell_type": "code",
   "execution_count": 91,
   "metadata": {
    "collapsed": true
   },
   "outputs": [],
   "source": [
    "\n",
    "def find_confusion_matrix(actual,predicted,clabels):\n",
    "    cm= []\n",
    "    for i in clabels:\n",
    "        tmp =[0]*len(clabels)\n",
    "        \n",
    "        for j in range(len(actual)):\n",
    "            if actual[j]== i and actual[j] == predicted[j]:\n",
    "                tmp[clabels.index(i)] += 1\n",
    "            elif actual[j]== i and actual[j] != predicted[j]:\n",
    "                tmp[clabels.index(predicted[j])] += 1\n",
    "        cm.append(tmp)\n",
    "    return np.array(cm)\n"
   ]
  },
  {
   "cell_type": "code",
   "execution_count": 92,
   "metadata": {
    "collapsed": true
   },
   "outputs": [],
   "source": [
    "def find_accuracy(matrix):\n",
    "    return np.trace(matrix)*1.0/np.sum(matrix)\n"
   ]
  },
  {
   "cell_type": "code",
   "execution_count": 93,
   "metadata": {
    "collapsed": true
   },
   "outputs": [],
   "source": [
    "def find_precision(matrix):\n",
    "    pres = []\n",
    "    x = np.sum(matrix,axis=0)\n",
    "    for i in range(len(matrix)):\n",
    "        for j in range(len(matrix)):\n",
    "            if i == j:\n",
    "                pres.append(matrix[i][j]*1.0/x[i])\n",
    "    return pres"
   ]
  },
  {
   "cell_type": "code",
   "execution_count": 94,
   "metadata": {
    "collapsed": true
   },
   "outputs": [],
   "source": [
    "def find_recall(matrix):\n",
    "    rec = []\n",
    "    x = np.sum(matrix,axis=1)\n",
    "    for i in range(len(matrix)):\n",
    "        for j in range(len(matrix)):\n",
    "            if i == j:\n",
    "                rec.append(matrix[i][j]*1.0/x[i])\n",
    "    return rec"
   ]
  },
  {
   "cell_type": "code",
   "execution_count": 95,
   "metadata": {
    "collapsed": true
   },
   "outputs": [],
   "source": [
    "def find_fmeasure(prec,rec):\n",
    "    tmp = []\n",
    "    for i,j in zip(prec,rec):\n",
    "        tmp.append(2.0*(i*j)/(i+j))\n",
    "    return tmp"
   ]
  },
  {
   "cell_type": "code",
   "execution_count": 96,
   "metadata": {
    "collapsed": false
   },
   "outputs": [],
   "source": [
    "def evaluation(acutal,predicted,clabels=[1,0]):\n",
    "    confmatrix = find_confusion_matrix(acutal,predicted,clabels)\n",
    "    print (\"Confusion Matrix\")\n",
    "    print (confmatrix)\n",
    "    accuracy = find_accuracy(confmatrix)\n",
    "    print (\"Accuracy\", accuracy)\n",
    "    precision = find_precision(confmatrix)\n",
    "    print (\"Precision\", precision)\n",
    "    recall = find_recall(confmatrix)\n",
    "    print (\"Recall\", recall)\n",
    "    f_score =find_fmeasure(precision,recall)\n",
    "    print (\"F_score\", f_score)"
   ]
  },
  {
   "cell_type": "code",
   "execution_count": 97,
   "metadata": {
    "collapsed": true
   },
   "outputs": [],
   "source": [
    "def do_cross_validation(X, y,clf, n_folds=5):\n",
    "    cv = KFold(len(y), n_folds)\n",
    "    accuracies = []\n",
    "    for train_ind, test_ind in cv: \n",
    "        clf.fit(X[train_ind], y[train_ind])\n",
    "        predictions = clf.predict(X[test_ind])\n",
    "        evaluation(y[test_ind],predictions)\n",
    "        accuracies.append(accuracy_score(y[test_ind], predictions))\n",
    "    avg = np.mean(accuracies)\n",
    "    return avg"
   ]
  },
  {
   "cell_type": "code",
   "execution_count": 98,
   "metadata": {
    "collapsed": true
   },
   "outputs": [],
   "source": [
    "distintCommunities = findCommunities()"
   ]
  },
  {
   "cell_type": "code",
   "execution_count": 99,
   "metadata": {
    "collapsed": false
   },
   "outputs": [],
   "source": [
    "filename= 'C:\\\\Users\\\\ar1\\\\Documents\\ML\\\\Project\\\\Crime Prediction Data(1)\\\\Crime Prediction Data\\\\communities-crime-clean.csv'\n",
    "X,Y,Features = extractData(filename, distintCommunities)"
   ]
  },
  {
   "cell_type": "code",
   "execution_count": 100,
   "metadata": {
    "collapsed": false
   },
   "outputs": [
    {
     "data": {
      "text/plain": [
       "(0.62719518314099343, 0.37280481685900652)"
      ]
     },
     "execution_count": 100,
     "metadata": {},
     "output_type": "execute_result"
    }
   ],
   "source": [
    "calcualtePercentage(Y)"
   ]
  },
  {
   "cell_type": "code",
   "execution_count": 101,
   "metadata": {
    "collapsed": true
   },
   "outputs": [],
   "source": [
    "svc= linearSVC()\n",
    "svc.fit(X[:1000],Y[:1000])\n",
    "predictedY=svc.predict(X[1000:])"
   ]
  },
  {
   "cell_type": "code",
   "execution_count": 118,
   "metadata": {
    "collapsed": false
   },
   "outputs": [
    {
     "name": "stdout",
     "output_type": "stream",
     "text": [
      "[68 94 60 91  6 38 32 39 27 52]\n",
      "PctPersDenseHous 0.984908412363\n",
      "PctSameCity85 0.981435176761\n",
      "PctSpeakEnglOnly 0.960729845933\n",
      "PctForeignBorn 0.914924461111\n",
      "agePct12t21 0.914760315051\n",
      "MalePctDivorce 0.912014512711\n",
      "PctUnemployed 0.868226310952\n",
      "MalePctNevMarr 0.84859120791\n",
      "NumUnderPov 0.746730894897\n",
      "PctImmigRecent 0.711115244969\n"
     ]
    }
   ],
   "source": [
    "topFeature = np.argsort(svc.coef_)[0][::-1][:10]\n",
    "print (topFeature)\n",
    "for i in topFeature:\n",
    "    print (Features[i],svc.coef_[0][i])\n"
   ]
  },
  {
   "cell_type": "markdown",
   "metadata": {},
   "source": [
    "Explaination : 10 most predictive feature\n",
    "2-b-ii) The 10 most predicitve features can be found above. "
   ]
  },
  {
   "cell_type": "code",
   "execution_count": 119,
   "metadata": {
    "collapsed": false
   },
   "outputs": [
    {
     "data": {
      "text/plain": [
       "array([[447,  94],\n",
       "       [126, 326]])"
      ]
     },
     "execution_count": 119,
     "metadata": {},
     "output_type": "execute_result"
    }
   ],
   "source": [
    "confusionMatrix(Y[1000:],predictedY)"
   ]
  },
  {
   "cell_type": "code",
   "execution_count": 120,
   "metadata": {
    "collapsed": false
   },
   "outputs": [
    {
     "name": "stdout",
     "output_type": "stream",
     "text": [
      "Confusion Matrix\n",
      "[[447  94]\n",
      " [126 326]]\n",
      "Accuracy 0.778449144008\n",
      "Precision [0.78010471204188481, 0.77619047619047621]\n",
      "Recall [0.82624768946395566, 0.72123893805309736]\n",
      "F_score [0.80251346499102338, 0.74770642201834858]\n"
     ]
    }
   ],
   "source": [
    "evaluation(Y[1000:],predictedY)"
   ]
  },
  {
   "cell_type": "code",
   "execution_count": 121,
   "metadata": {
    "collapsed": false
   },
   "outputs": [
    {
     "name": "stdout",
     "output_type": "stream",
     "text": [
      "Confusion Matrix\n",
      "[[447  94]\n",
      " [126 326]]\n",
      "Accuracy 0.778449144008\n",
      "Precision [0.78010471204188481, 0.77619047619047621]\n",
      "Recall [0.82624768946395566, 0.72123893805309736]\n",
      "F_score [0.80251346499102338, 0.74770642201834858]\n"
     ]
    }
   ],
   "source": [
    "evaluation(Y[1000:],predictedY)"
   ]
  },
  {
   "cell_type": "code",
   "execution_count": 125,
   "metadata": {
    "collapsed": false
   },
   "outputs": [
    {
     "name": "stdout",
     "output_type": "stream",
     "text": [
      "Confusion Matrix\n",
      "[[68  6]\n",
      " [10 16]]\n",
      "Accuracy 0.84\n",
      "Precision [0.87179487179487181, 0.72727272727272729]\n",
      "Recall [0.91891891891891897, 0.61538461538461542]\n",
      "F_score [0.89473684210526316, 0.66666666666666674]\n",
      "Confusion Matrix\n",
      "[[88  3]\n",
      " [ 6  3]]\n",
      "Accuracy 0.91\n",
      "Precision [0.93617021276595747, 0.5]\n",
      "Recall [0.96703296703296704, 0.33333333333333331]\n",
      "F_score [0.95135135135135129, 0.40000000000000002]\n",
      "Confusion Matrix\n",
      "[[88  2]\n",
      " [ 3  7]]\n",
      "Accuracy 0.95\n",
      "Precision [0.96703296703296704, 0.77777777777777779]\n",
      "Recall [0.97777777777777775, 0.69999999999999996]\n",
      "F_score [0.97237569060773477, 0.73684210526315774]\n",
      "Confusion Matrix\n",
      "[[77  5]\n",
      " [11  7]]\n",
      "Accuracy 0.84\n",
      "Precision [0.875, 0.58333333333333337]\n",
      "Recall [0.93902439024390238, 0.3888888888888889]\n",
      "F_score [0.90588235294117636, 0.46666666666666662]\n",
      "Confusion Matrix\n",
      "[[51  1]\n",
      " [10 38]]\n",
      "Accuracy 0.89\n",
      "Precision [0.83606557377049184, 0.97435897435897434]\n",
      "Recall [0.98076923076923073, 0.79166666666666663]\n",
      "F_score [0.90265486725663724, 0.87356321839080453]\n",
      "Confusion Matrix\n",
      "[[80  7]\n",
      " [ 7  6]]\n",
      "Accuracy 0.86\n",
      "Precision [0.91954022988505746, 0.46153846153846156]\n",
      "Recall [0.91954022988505746, 0.46153846153846156]\n",
      "F_score [0.91954022988505746, 0.46153846153846156]\n",
      "Confusion Matrix\n",
      "[[50 14]\n",
      " [15 21]]\n",
      "Accuracy 0.71\n",
      "Precision [0.76923076923076927, 0.59999999999999998]\n",
      "Recall [0.78125, 0.58333333333333337]\n",
      "F_score [0.77519379844961256, 0.59154929577464799]\n",
      "Confusion Matrix\n",
      "[[51 13]\n",
      " [ 9 27]]\n",
      "Accuracy 0.78\n",
      "Precision [0.84999999999999998, 0.67500000000000004]\n",
      "Recall [0.796875, 0.75]\n",
      "F_score [0.82258064516129026, 0.71052631578947378]\n",
      "Confusion Matrix\n",
      "[[40 17]\n",
      " [10 33]]\n",
      "Accuracy 0.73\n",
      "Precision [0.80000000000000004, 0.66000000000000003]\n",
      "Recall [0.70175438596491224, 0.76744186046511631]\n",
      "F_score [0.74766355140186913, 0.70967741935483863]\n",
      "Confusion Matrix\n",
      "[[40  8]\n",
      " [14 38]]\n",
      "Accuracy 0.78\n",
      "Precision [0.7407407407407407, 0.82608695652173914]\n",
      "Recall [0.83333333333333337, 0.73076923076923073]\n",
      "F_score [0.78431372549019607, 0.77551020408163263]\n"
     ]
    },
    {
     "data": {
      "text/plain": [
       "0.82899999999999996"
      ]
     },
     "execution_count": 125,
     "metadata": {},
     "output_type": "execute_result"
    }
   ],
   "source": [
    "do_cross_validation(X[:1000],Y[:1000],svc,10)"
   ]
  },
  {
   "cell_type": "markdown",
   "metadata": {},
   "source": [
    "Explaination: Cross Validation\n",
    "2-b-i) The 10 fold cross validation accuracy,precision,recall and F_score can be found above. "
   ]
  },
  {
   "cell_type": "code",
   "execution_count": 127,
   "metadata": {
    "collapsed": false
   },
   "outputs": [
    {
     "data": {
      "text/plain": [
       "0.77844914400805643"
      ]
     },
     "execution_count": 127,
     "metadata": {},
     "output_type": "execute_result"
    }
   ],
   "source": [
    "accuracy_score(Y[1000:],predictedY)"
   ]
  },
  {
   "cell_type": "markdown",
   "metadata": {},
   "source": [
    "Explaination : Accuracy compared with decision tree\n",
    "2-b-iii) Accuracy for decision tree was 72% where as the accuracy for Linear SVC is 77.8 %. Thus it can be concluded that Linear SVC was able to predict much better than Decision Tree. "
   ]
  },
  {
   "cell_type": "code",
   "execution_count": 128,
   "metadata": {
    "collapsed": false
   },
   "outputs": [
    {
     "data": {
      "text/plain": [
       "0.7784491440080564"
      ]
     },
     "execution_count": 128,
     "metadata": {},
     "output_type": "execute_result"
    }
   ],
   "source": [
    "sumCorrect =0\n",
    "for i in range(1000,len(Y)):\n",
    "    if Y[i]==predictedY[i-1000]:\n",
    "        sumCorrect += 1\n",
    "sumCorrect*1.0/len(Y[1000:])"
   ]
  },
  {
   "cell_type": "code",
   "execution_count": null,
   "metadata": {
    "collapsed": true
   },
   "outputs": [],
   "source": []
  },
  {
   "cell_type": "code",
   "execution_count": null,
   "metadata": {
    "collapsed": true
   },
   "outputs": [],
   "source": [
    "-"
   ]
  }
 ],
 "metadata": {
  "kernelspec": {
   "display_name": "Python 3",
   "language": "python",
   "name": "python3"
  },
  "language_info": {
   "codemirror_mode": {
    "name": "ipython",
    "version": 3
   },
   "file_extension": ".py",
   "mimetype": "text/x-python",
   "name": "python",
   "nbconvert_exporter": "python",
   "pygments_lexer": "ipython3",
   "version": "3.6.0"
  }
 },
 "nbformat": 4,
 "nbformat_minor": 2
}
