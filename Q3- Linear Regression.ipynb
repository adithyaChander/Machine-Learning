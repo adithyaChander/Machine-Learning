{
 "cells": [
  {
   "cell_type": "code",
   "execution_count": 1,
   "metadata": {
    "collapsed": false
   },
   "outputs": [
    {
     "name": "stderr",
     "output_type": "stream",
     "text": [
      "C:\\Users\\ar1\\Anaconda3\\lib\\site-packages\\sklearn\\cross_validation.py:44: DeprecationWarning: This module was deprecated in version 0.18 in favor of the model_selection module into which all the refactored classes and functions are moved. Also note that the interface of the new CV iterators are different from that of this module. This module will be removed in 0.20.\n",
      "  \"This module will be removed in 0.20.\", DeprecationWarning)\n"
     ]
    }
   ],
   "source": [
    "import csv\n",
    "import numpy as np\n",
    "from sklearn.cross_validation import KFold\n",
    "from sklearn.metrics import accuracy_score\n",
    "from sklearn.metrics import confusion_matrix\n",
    "from sklearn.naive_bayes import GaussianNB\n",
    "from sklearn.linear_model import LinearRegression\n",
    "from sklearn.svm import LinearSVC\n"
   ]
  },
  {
   "cell_type": "code",
   "execution_count": 2,
   "metadata": {
    "collapsed": true
   },
   "outputs": [],
   "source": [
    "def findCommunities():\n",
    "    communities = []\n",
    "    with open('C:\\\\Users\\\\ar1\\\\Documents\\ML\\\\Project\\\\Crime Prediction Data(1)\\\\Crime Prediction Data\\\\communities-crime-clean.csv', 'r') as csvfile:\n",
    "        filereader = csv.reader(csvfile)\n",
    "        j = 0\n",
    "        for i in filereader:\n",
    "            if j > 0:\n",
    "                if i[1] not in communities:\n",
    "                    communities.append(i[1])\n",
    "            j+=1\n",
    "    return communities"
   ]
  },
  {
   "cell_type": "code",
   "execution_count": 3,
   "metadata": {
    "collapsed": true
   },
   "outputs": [],
   "source": [
    "def extractData(filename,communities,addstate = False,addcommunity = False):\n",
    "    features = []\n",
    "    x=[]\n",
    "    y=[]\n",
    "    with open(filename, 'r') as csvfile:\n",
    "        filereader = csv.reader(csvfile)\n",
    "        j = 0\n",
    "        for i in filereader:\n",
    "            if j > 0:\n",
    "                data = i[3:len(i)-1]\n",
    "                if addstate:\n",
    "                    state = [0.0]*56\n",
    "                    state[int(i[0])-1] = 1.0\n",
    "                    data = data + state\n",
    "                    features = features + [\"state\"+str(i) for i in range(56)]\n",
    "                if addcommunity:\n",
    "                    tmp = [0.0]*len(communities)\n",
    "                    tmp[communities.index(i[1])] = 1.0\n",
    "                    data = data + tmp\n",
    "                    features = features + communities\n",
    "                vect = np.array(data)\n",
    "                #vect = np.array(i[3:len(i)-1])\n",
    "                x.append(vect.astype(np.float))\n",
    "                if float(i[-1]) > 0.1:\n",
    "                    y.append(1)\n",
    "                else:\n",
    "                    y.append(0)\n",
    "            else:\n",
    "                features = i[3:len(i)-1]\n",
    "            j+=1\n",
    "        y = np.array(y)\n",
    "        x = np.array(x)\n",
    "        features = np.array(features)\n",
    "        return x,y,features\n"
   ]
  },
  {
   "cell_type": "code",
   "execution_count": 4,
   "metadata": {
    "collapsed": true
   },
   "outputs": [],
   "source": [
    "def meanSquaredError(true,predict):\n",
    "    print(\"Mean squared error: %.4f\"\n",
    "      % np.mean((predict-true) ** 2))"
   ]
  },
  {
   "cell_type": "code",
   "execution_count": 5,
   "metadata": {
    "collapsed": true
   },
   "outputs": [],
   "source": [
    "def linearRegression():\n",
    "    return LinearRegression()\n"
   ]
  },
  {
   "cell_type": "code",
   "execution_count": 6,
   "metadata": {
    "collapsed": true
   },
   "outputs": [],
   "source": [
    "def do_cross_validation(X, y,clf, n_folds=5):\n",
    "    cv = KFold(len(y), n_folds)\n",
    "    accuracies = []\n",
    "    for train_ind, test_ind in cv: \n",
    "        clf.fit(X[train_ind], y[train_ind])\n",
    "        predictions = clf.predict(X[test_ind])\n",
    "        meanSquaredError(y[test_ind],predictions)"
   ]
  },
  {
   "cell_type": "code",
   "execution_count": 7,
   "metadata": {
    "collapsed": true
   },
   "outputs": [],
   "source": [
    "distintCommunities = findCommunities()"
   ]
  },
  {
   "cell_type": "code",
   "execution_count": 8,
   "metadata": {
    "collapsed": true
   },
   "outputs": [],
   "source": [
    "filename= 'C:\\\\Users\\\\ar1\\\\Documents\\ML\\\\Project\\\\Crime Prediction Data(1)\\\\Crime Prediction Data\\\\communities-crime-clean.csv'\n",
    "X,Y,Features = extractData(filename, distintCommunities)"
   ]
  },
  {
   "cell_type": "code",
   "execution_count": 9,
   "metadata": {
    "collapsed": true
   },
   "outputs": [],
   "source": [
    "LinReg= linearRegression()\n",
    "LinReg.fit(X[:1000],Y[:1000])\n",
    "predictedY=LinReg.predict(X[1000:])"
   ]
  },
  {
   "cell_type": "code",
   "execution_count": 10,
   "metadata": {
    "collapsed": false
   },
   "outputs": [
    {
     "name": "stdout",
     "output_type": "stream",
     "text": [
      "Mean squared error: 0.1603\n"
     ]
    }
   ],
   "source": [
    "meanSquaredError(predictedY,Y[1000:])"
   ]
  },
  {
   "cell_type": "markdown",
   "metadata": {},
   "source": []
  },
  {
   "cell_type": "code",
   "execution_count": 11,
   "metadata": {
    "collapsed": false
   },
   "outputs": [
    {
     "name": "stdout",
     "output_type": "stream",
     "text": [
      "Mean squared error: 0.1883\n",
      "Mean squared error: 0.0818\n",
      "Mean squared error: 0.0668\n",
      "Mean squared error: 0.1260\n",
      "Mean squared error: 0.1036\n",
      "Mean squared error: 0.1147\n",
      "Mean squared error: 0.1756\n",
      "Mean squared error: 0.1699\n",
      "Mean squared error: 0.1796\n",
      "Mean squared error: 0.1728\n"
     ]
    }
   ],
   "source": [
    "do_cross_validation(X[:1000],Y[:1000],LinReg,10)"
   ]
  },
  {
   "cell_type": "markdown",
   "metadata": {},
   "source": [
    "Explaination : Mean Squared Error \n",
    "3-a-i) The mean squared error for 10 fold CV can be found above."
   ]
  },
  {
   "cell_type": "code",
   "execution_count": 12,
   "metadata": {
    "collapsed": false
   },
   "outputs": [
    {
     "name": "stdout",
     "output_type": "stream",
     "text": [
      "Mean squared error: 0.1159\n"
     ]
    }
   ],
   "source": [
    "LinReg= linearRegression()\n",
    "LinReg.fit(X,Y)\n",
    "predictedY=LinReg.predict(X)\n",
    "meanSquaredError(predictedY,Y)"
   ]
  },
  {
   "cell_type": "markdown",
   "metadata": {},
   "source": [
    "Explaination : Mean Squared Error on the training set\n",
    "3-a-ii) The mean squared error on the training set can be found above (0.1159)."
   ]
  },
  {
   "cell_type": "code",
   "execution_count": 14,
   "metadata": {
    "collapsed": false
   },
   "outputs": [
    {
     "name": "stdout",
     "output_type": "stream",
     "text": [
      "population 3.92893068558\n",
      "PersPerOccupHous 1.20533188999\n",
      "medFamInc 0.926851094478\n",
      "PctOccupMgmtProf 0.743965216916\n",
      "PctRecImmig8 0.712338606902\n",
      "RentHighQ 0.670068418017\n",
      "MalePctDivorce 0.599112582753\n",
      "PctRecImmig5 0.585686876654\n",
      "PctHousOwnOcc 0.535955037315\n",
      "PctForeignBorn 0.446307015915\n"
     ]
    }
   ],
   "source": [
    "feature_indx = np.argsort(LinReg.coef_)[::-1]\n",
    "for i in feature_indx[:10]:\n",
    "    print (Features[i], LinReg.coef_[i])"
   ]
  },
  {
   "cell_type": "markdown",
   "metadata": {},
   "source": [
    "Explaination : Features that predict high crime \n",
    "3-a-iii) The features that predict high crime can be found above. I think these features are apt and ideal to predict high Crime in a particular community  "
   ]
  },
  {
   "cell_type": "code",
   "execution_count": 16,
   "metadata": {
    "collapsed": false
   },
   "outputs": [
    {
     "name": "stdout",
     "output_type": "stream",
     "text": [
      "numbUrban -2.83057872862\n",
      "PctKids2Par -1.23646333742\n",
      "PctRecImmig10 -1.2130652747\n",
      "medIncome -1.01150012138\n",
      "pctWInvInc -0.94625437365\n",
      "NumIlleg -0.847099741612\n",
      "TotalPctDiv -0.651321367827\n",
      "MedRent -0.583415073933\n",
      "PctRecentImmig -0.56940638336\n",
      "PctBSorMore -0.492669766355\n"
     ]
    }
   ],
   "source": [
    "feature_indx = np.argsort(LinReg.coef_)\n",
    "for i in feature_indx[:10]:\n",
    "    print (Features[i], LinReg.coef_[i])\n"
   ]
  },
  {
   "cell_type": "markdown",
   "metadata": {},
   "source": [
    "Explaination : Features that predict low crime \n",
    "3-a-iii) The features that predict low crime can be found above. I think these features are apt and ideal to predict low Crime in a particular community  "
   ]
  }
 ],
 "metadata": {
  "kernelspec": {
   "display_name": "Python 3",
   "language": "python",
   "name": "python3"
  },
  "language_info": {
   "codemirror_mode": {
    "name": "ipython",
    "version": 3
   },
   "file_extension": ".py",
   "mimetype": "text/x-python",
   "name": "python",
   "nbconvert_exporter": "python",
   "pygments_lexer": "ipython3",
   "version": "3.6.0"
  }
 },
 "nbformat": 4,
 "nbformat_minor": 2
}
