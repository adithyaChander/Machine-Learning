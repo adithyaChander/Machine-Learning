{
 "cells": [
  {
   "cell_type": "code",
   "execution_count": 113,
   "metadata": {
    "collapsed": false
   },
   "outputs": [],
   "source": [
    "import csv\n",
    "from sklearn import tree\n",
    "import numpy as np\n",
    "from sklearn.cross_validation import KFold\n",
    "from sklearn.metrics import accuracy_score\n",
    "from sklearn.metrics import confusion_matrix\n",
    "from sklearn.ensemble import RandomForestClassifier"
   ]
  },
  {
   "cell_type": "code",
   "execution_count": 114,
   "metadata": {
    "collapsed": true
   },
   "outputs": [],
   "source": [
    "def findCommunities():\n",
    "    communities = []\n",
    "    with open('C:\\\\Users\\\\ar1\\\\Documents\\ML\\\\Project\\\\Crime Prediction Data(1)\\\\Crime Prediction Data\\\\communities-crime-clean.csv', 'r') as csvfile:\n",
    "        filereader = csv.reader(csvfile)\n",
    "        j = 0\n",
    "        for i in filereader:\n",
    "            if j > 0:\n",
    "                if i[1] not in communities:\n",
    "                    communities.append(i[1])\n",
    "            j+=1\n",
    "    return communities"
   ]
  },
  {
   "cell_type": "code",
   "execution_count": 134,
   "metadata": {
    "collapsed": false
   },
   "outputs": [],
   "source": [
    "def extractData(filename,communities,addstate = False,addcommunity = False):\n",
    "    features = []\n",
    "    xPositive=[]\n",
    "    yPositive=[]\n",
    "    xNegative=[]\n",
    "    yNegative =[]\n",
    "    with open(filename, 'r') as csvfile:\n",
    "        filereader = csv.reader(csvfile)\n",
    "        j = 0\n",
    "        for i in filereader:\n",
    "            if j > 0:\n",
    "                data = i[3:len(i)-1]\n",
    "                if addstate:\n",
    "                    state = [0.0]*56\n",
    "                    state[int(i[0])-1] = 1.0\n",
    "                    data = data + state\n",
    "                    features = features + [\"state\"+str(i) for i in range(56)]\n",
    "                if addcommunity:\n",
    "                    tmp = [0.0]*len(communities)\n",
    "                    tmp[communities.index(i[1])] = 1.0\n",
    "                    data = data + tmp\n",
    "                    features = features + communities\n",
    "                vect = np.array(data)\n",
    "                #vect = np.array(i[3:len(i)-1])\n",
    "                #x.append(vect.astype(np.float))\n",
    "                if float(i[-1]) > 0.1:\n",
    "                    xPositive.append(vect.astype(np.float))\n",
    "                    yPositive.append(1)\n",
    "                else:\n",
    "                    xNegative.append(vect.astype(np.float))\n",
    "                    yNegative.append(0)\n",
    "            else:\n",
    "                features = i[3:len(i)-1]\n",
    "            j+=1\n",
    "        \"\"\"yPositive = np.array(yPositive)\n",
    "        xPositive = np.array(xPositive)\n",
    "        yNegative = np.array(yNegative)\n",
    "        xNegative = np.array(xNegative)\"\"\"\n",
    "        features = np.array(features)\n",
    "        indxP = int(len(xPositive)*.6)\n",
    "        indxN = int(len(xNegative)*.6)\n",
    "        xTrain = xPositive[:indxP] + xNegative[:indxN]\n",
    "        yTrain = yPositive[:indxP] + yNegative[:indxN]\n",
    "        xTest = xPositive[indxP:] + xNegative[indxN:]\n",
    "        yTest = yPositive[indxP:] + yNegative[indxN:]\n",
    "        \n",
    "        \n",
    "            \n",
    "            \n",
    "        return xTrain,yTrain,xTest,yTest,features\n"
   ]
  },
  {
   "cell_type": "code",
   "execution_count": 135,
   "metadata": {
    "collapsed": true
   },
   "outputs": [],
   "source": [
    "def calcualtePercentage(labels):\n",
    "    n = len(labels)\n",
    "    sumTrue = sum(labels)*1.0\n",
    "    sumFalse = (n - sumTrue)*1.0\n",
    "    return sumTrue/n,sumFalse/n"
   ]
  },
  {
   "cell_type": "code",
   "execution_count": 136,
   "metadata": {
    "collapsed": false
   },
   "outputs": [
    {
     "data": {
      "text/plain": [
       "(0.62719518314099343, 0.37280481685900652)"
      ]
     },
     "execution_count": 136,
     "metadata": {},
     "output_type": "execute_result"
    }
   ],
   "source": [
    "calcualtePercentage(Y)"
   ]
  },
  {
   "cell_type": "markdown",
   "metadata": {},
   "source": [
    "Explaination\n",
    "1a) The above code snippet is used to find if ViolentCrimesPerPop is greater than 0.1 or not. If it is greater than 0.1, then highCrime/y is appended with 1 (1 means true) and if it less than 0.1, then highCrime/y is appended with 0 ( 0 means false). The positive and negative instances are 62.71 % and 37.29% respectively. "
   ]
  },
  {
   "cell_type": "code",
   "execution_count": 137,
   "metadata": {
    "collapsed": false
   },
   "outputs": [
    {
     "data": {
      "text/plain": [
       "\"def randomForest():\\n    return RandomForestClassifier.RandomForestClassifier(n_estimators=10, criterion='gini', max_depth=None, min_samples_split=2, \\n                                       min_samples_leaf=1, min_weight_fraction_leaf=0.0, max_features='auto', \\n                                       max_leaf_nodes=None, min_impurity_split=1e-07, bootstrap=True, oob_score=False, \\n                                       n_jobs=1, random_state=None, verbose=0, warm_start=False, class_weight=None)\""
      ]
     },
     "execution_count": 137,
     "metadata": {},
     "output_type": "execute_result"
    }
   ],
   "source": [
    "\"\"\"def randomForest():\n",
    "    return RandomForestClassifier.RandomForestClassifier(n_estimators=10, criterion='gini', max_depth=None, min_samples_split=2, \n",
    "                                       min_samples_leaf=1, min_weight_fraction_leaf=0.0, max_features='auto', \n",
    "                                       max_leaf_nodes=None, min_impurity_split=1e-07, bootstrap=True, oob_score=False, \n",
    "                                       n_jobs=1, random_state=None, verbose=0, warm_start=False, class_weight=None)\"\"\""
   ]
  },
  {
   "cell_type": "code",
   "execution_count": 138,
   "metadata": {
    "collapsed": true
   },
   "outputs": [],
   "source": [
    "def confusionMatrix(true,predicted,labels = [1,0]):\n",
    "    return confusion_matrix(true,predicted,labels)"
   ]
  },
  {
   "cell_type": "code",
   "execution_count": 139,
   "metadata": {
    "collapsed": true
   },
   "outputs": [],
   "source": [
    "def find_confusion_matrix(actual,predicted,clabels):\n",
    "    cm= []\n",
    "    for i in clabels:\n",
    "        tmp =[0]*len(clabels)\n",
    "        \n",
    "        for j in range(len(actual)):\n",
    "            if actual[j]== i and actual[j] == predicted[j]:\n",
    "                tmp[clabels.index(i)] += 1\n",
    "            elif actual[j]== i and actual[j] != predicted[j]:\n",
    "                tmp[clabels.index(predicted[j])] += 1\n",
    "        cm.append(tmp)\n",
    "    return np.array(cm)"
   ]
  },
  {
   "cell_type": "code",
   "execution_count": 140,
   "metadata": {
    "collapsed": true
   },
   "outputs": [],
   "source": [
    "def find_accuracy(matrix):\n",
    "    return np.trace(matrix)*1.0/np.sum(matrix)"
   ]
  },
  {
   "cell_type": "code",
   "execution_count": 141,
   "metadata": {
    "collapsed": true
   },
   "outputs": [],
   "source": [
    "def find_precision(matrix):\n",
    "    pres = []\n",
    "    x = np.sum(matrix,axis=0)\n",
    "    for i in range(len(matrix)):\n",
    "        for j in range(len(matrix)):\n",
    "            if i == j:\n",
    "                pres.append(matrix[i][j]*1.0/x[i])\n",
    "    return pres"
   ]
  },
  {
   "cell_type": "code",
   "execution_count": 142,
   "metadata": {
    "collapsed": true
   },
   "outputs": [],
   "source": [
    "def find_recall(matrix):\n",
    "    rec = []\n",
    "    x = np.sum(matrix,axis=1)\n",
    "    for i in range(len(matrix)):\n",
    "        for j in range(len(matrix)):\n",
    "            if i == j:\n",
    "                rec.append(matrix[i][j]*1.0/x[i])\n",
    "    return rec"
   ]
  },
  {
   "cell_type": "code",
   "execution_count": 143,
   "metadata": {
    "collapsed": true
   },
   "outputs": [],
   "source": [
    "def find_fmeasure(prec,rec):\n",
    "    tmp = []\n",
    "    for i,j in zip(prec,rec):\n",
    "        tmp.append(2.0*(i*j)/(i+j))\n",
    "    return tmp"
   ]
  },
  {
   "cell_type": "code",
   "execution_count": 144,
   "metadata": {
    "collapsed": false
   },
   "outputs": [],
   "source": [
    "def evaluation(acutal,predicted,clabels=[1,0]):\n",
    "    confmatrix = find_confusion_matrix(acutal,predicted,clabels)\n",
    "    print (\"Confusion Matrix\")\n",
    "    print (confmatrix)\n",
    "    accuracy = find_accuracy(confmatrix)\n",
    "    print (\"Accuracy\", accuracy)\n",
    "    precision = find_precision(confmatrix)\n",
    "    print (\"Precision\", precision)\n",
    "    recall = find_recall(confmatrix)\n",
    "    print (\"Recall\", recall)\n",
    "    f_score =find_fmeasure(precision,recall)\n",
    "    print (\"F_score\", f_score)"
   ]
  },
  {
   "cell_type": "code",
   "execution_count": 145,
   "metadata": {
    "collapsed": true
   },
   "outputs": [],
   "source": [
    "def do_cross_validation(X, y,clf, n_folds=5):\n",
    "    cv = KFold(len(y), n_folds)\n",
    "    accuracies = []\n",
    "    for train_ind, test_ind in cv: \n",
    "        clf.fit(X[train_ind], y[train_ind])\n",
    "        predictions = clf.predict(X[test_ind])\n",
    "        evaluation(y[test_ind],predictions)\n",
    "        accuracies.append(accuracy_score(y[test_ind], predictions))\n",
    "    avg = np.mean(accuracies)\n",
    "    return avg"
   ]
  },
  {
   "cell_type": "code",
   "execution_count": 146,
   "metadata": {
    "collapsed": true
   },
   "outputs": [],
   "source": [
    "distintCommunities = findCommunities()"
   ]
  },
  {
   "cell_type": "code",
   "execution_count": 147,
   "metadata": {
    "collapsed": false
   },
   "outputs": [],
   "source": [
    "filename = 'C:\\\\Users\\\\ar1\\\\Documents\\ML\\\\Project\\\\Crime Prediction Data(1)\\\\Crime Prediction Data\\\\communities-crime-clean.csv'\n",
    "XTrain,YTrain,XTest,YTest,Features = extractData(filename,distintCommunities,addstate = False,addcommunity = False)"
   ]
  },
  {
   "cell_type": "code",
   "execution_count": 148,
   "metadata": {
    "collapsed": false
   },
   "outputs": [],
   "source": [
    "\n",
    "rf = RandomForestClassifier(max_depth=None, min_samples_split=2,n_estimators=10)\n",
    "rf.fit(XTrain,YTrain)\n",
    "predictedY=rf.predict(XTest)\n"
   ]
  },
  {
   "cell_type": "code",
   "execution_count": 149,
   "metadata": {
    "collapsed": false
   },
   "outputs": [
    {
     "data": {
      "text/plain": [
       "array([[401,  99],\n",
       "       [ 70, 228]])"
      ]
     },
     "execution_count": 149,
     "metadata": {},
     "output_type": "execute_result"
    }
   ],
   "source": [
    "confusionMatrix(YTest,predictedY)"
   ]
  },
  {
   "cell_type": "markdown",
   "metadata": {},
   "source": [
    " Explaination :\n",
    " The confusion Matrix for Y( i.e HighCrime ) can be found above."
   ]
  },
  {
   "cell_type": "code",
   "execution_count": 150,
   "metadata": {
    "collapsed": false
   },
   "outputs": [
    {
     "name": "stdout",
     "output_type": "stream",
     "text": [
      "Confusion Matrix\n",
      "[[401  99]\n",
      " [ 70 228]]\n",
      "Accuracy 0.788220551378\n",
      "Precision [0.85138004246284504, 0.69724770642201839]\n",
      "Recall [0.80200000000000005, 0.7651006711409396]\n",
      "F_score [0.82595262615859932, 0.72960000000000003]\n"
     ]
    }
   ],
   "source": [
    "evaluation(YTest,predictedY)"
   ]
  },
  {
   "cell_type": "code",
   "execution_count": 151,
   "metadata": {
    "collapsed": false
   },
   "outputs": [
    {
     "name": "stdout",
     "output_type": "stream",
     "text": [
      "Confusion Matrix\n",
      "[[64 10]\n",
      " [14 12]]\n",
      "Accuracy 0.76\n",
      "Precision [0.82051282051282048, 0.54545454545454541]\n",
      "Recall [0.86486486486486491, 0.46153846153846156]\n",
      "F_score [0.84210526315789469, 0.49999999999999989]\n",
      "Confusion Matrix\n",
      "[[89  2]\n",
      " [ 5  4]]\n",
      "Accuracy 0.93\n",
      "Precision [0.94680851063829785, 0.66666666666666663]\n",
      "Recall [0.97802197802197799, 0.44444444444444442]\n",
      "F_score [0.96216216216216222, 0.53333333333333333]\n",
      "Confusion Matrix\n",
      "[[87  3]\n",
      " [ 3  7]]\n",
      "Accuracy 0.94\n",
      "Precision [0.96666666666666667, 0.69999999999999996]\n",
      "Recall [0.96666666666666667, 0.69999999999999996]\n",
      "F_score [0.96666666666666667, 0.69999999999999996]\n",
      "Confusion Matrix\n",
      "[[78  4]\n",
      " [ 9  9]]\n",
      "Accuracy 0.87\n",
      "Precision [0.89655172413793105, 0.69230769230769229]\n",
      "Recall [0.95121951219512191, 0.5]\n",
      "F_score [0.92307692307692313, 0.58064516129032262]\n",
      "Confusion Matrix\n",
      "[[48  4]\n",
      " [ 9 39]]\n",
      "Accuracy 0.87\n",
      "Precision [0.84210526315789469, 0.90697674418604646]\n",
      "Recall [0.92307692307692313, 0.8125]\n",
      "F_score [0.88073394495412849, 0.85714285714285721]\n",
      "Confusion Matrix\n",
      "[[81  6]\n",
      " [ 6  7]]\n",
      "Accuracy 0.88\n",
      "Precision [0.93103448275862066, 0.53846153846153844]\n",
      "Recall [0.93103448275862066, 0.53846153846153844]\n",
      "F_score [0.93103448275862066, 0.53846153846153844]\n",
      "Confusion Matrix\n",
      "[[52 12]\n",
      " [16 20]]\n",
      "Accuracy 0.72\n",
      "Precision [0.76470588235294112, 0.625]\n",
      "Recall [0.8125, 0.55555555555555558]\n",
      "F_score [0.78787878787878796, 0.58823529411764708]\n",
      "Confusion Matrix\n",
      "[[49 15]\n",
      " [12 24]]\n",
      "Accuracy 0.73\n",
      "Precision [0.80327868852459017, 0.61538461538461542]\n",
      "Recall [0.765625, 0.66666666666666663]\n",
      "F_score [0.78400000000000003, 0.64000000000000001]\n",
      "Confusion Matrix\n",
      "[[36 21]\n",
      " [ 9 34]]\n",
      "Accuracy 0.7\n",
      "Precision [0.80000000000000004, 0.61818181818181817]\n",
      "Recall [0.63157894736842102, 0.79069767441860461]\n",
      "F_score [0.70588235294117652, 0.69387755102040805]\n",
      "Confusion Matrix\n",
      "[[37 11]\n",
      " [18 34]]\n",
      "Accuracy 0.71\n",
      "Precision [0.67272727272727273, 0.75555555555555554]\n",
      "Recall [0.77083333333333337, 0.65384615384615385]\n",
      "F_score [0.71844660194174759, 0.70103092783505161]\n"
     ]
    },
    {
     "data": {
      "text/plain": [
       "0.81099999999999994"
      ]
     },
     "execution_count": 151,
     "metadata": {},
     "output_type": "execute_result"
    }
   ],
   "source": [
    "do_cross_validation(X[:1000],Y[:1000],rf,10)"
   ]
  },
  {
   "cell_type": "markdown",
   "metadata": {},
   "source": [
    "Explaination: Cross Validation\n",
    "1-c-i) The 10 cross validation's accuracy, Precision, Recall and F_score can be found above.\n",
    "\n",
    "1-c-ii) \n",
    "    "
   ]
  },
  {
   "cell_type": "code",
   "execution_count": 152,
   "metadata": {
    "collapsed": false
   },
   "outputs": [
    {
     "ename": "IndexError",
     "evalue": "index 798 is out of bounds for axis 0 with size 798",
     "output_type": "error",
     "traceback": [
      "\u001b[0;31m---------------------------------------------------------------------------\u001b[0m",
      "\u001b[0;31mIndexError\u001b[0m                                Traceback (most recent call last)",
      "\u001b[0;32m<ipython-input-152-aa5278f75fbc>\u001b[0m in \u001b[0;36m<module>\u001b[0;34m()\u001b[0m\n\u001b[1;32m      1\u001b[0m \u001b[0msumCorrect\u001b[0m \u001b[1;33m=\u001b[0m\u001b[1;36m0\u001b[0m\u001b[1;33m\u001b[0m\u001b[0m\n\u001b[1;32m      2\u001b[0m \u001b[1;32mfor\u001b[0m \u001b[0mi\u001b[0m \u001b[1;32min\u001b[0m \u001b[0mrange\u001b[0m\u001b[1;33m(\u001b[0m\u001b[1;36m1000\u001b[0m\u001b[1;33m,\u001b[0m\u001b[0mlen\u001b[0m\u001b[1;33m(\u001b[0m\u001b[0mY\u001b[0m\u001b[1;33m)\u001b[0m\u001b[1;33m)\u001b[0m\u001b[1;33m:\u001b[0m\u001b[1;33m\u001b[0m\u001b[0m\n\u001b[0;32m----> 3\u001b[0;31m     \u001b[1;32mif\u001b[0m \u001b[0mY\u001b[0m\u001b[1;33m[\u001b[0m\u001b[0mi\u001b[0m\u001b[1;33m]\u001b[0m\u001b[1;33m==\u001b[0m\u001b[0mpredictedY\u001b[0m\u001b[1;33m[\u001b[0m\u001b[0mi\u001b[0m\u001b[1;33m-\u001b[0m\u001b[1;36m1000\u001b[0m\u001b[1;33m]\u001b[0m\u001b[1;33m:\u001b[0m\u001b[1;33m\u001b[0m\u001b[0m\n\u001b[0m\u001b[1;32m      4\u001b[0m         \u001b[0msumCorrect\u001b[0m \u001b[1;33m+=\u001b[0m \u001b[1;36m1\u001b[0m\u001b[1;33m\u001b[0m\u001b[0m\n\u001b[1;32m      5\u001b[0m \u001b[0msumCorrect\u001b[0m\u001b[1;33m*\u001b[0m\u001b[1;36m1.0\u001b[0m\u001b[1;33m/\u001b[0m\u001b[0mlen\u001b[0m\u001b[1;33m(\u001b[0m\u001b[0mY\u001b[0m\u001b[1;33m[\u001b[0m\u001b[1;36m1000\u001b[0m\u001b[1;33m:\u001b[0m\u001b[1;33m]\u001b[0m\u001b[1;33m)\u001b[0m\u001b[1;33m\u001b[0m\u001b[0m\n",
      "\u001b[0;31mIndexError\u001b[0m: index 798 is out of bounds for axis 0 with size 798"
     ]
    }
   ],
   "source": [
    "sumCorrect =0\n",
    "for i in range(1000,len(Y)):\n",
    "    if Y[i]==predictedY[i-1000]:\n",
    "        sumCorrect += 1\n",
    "sumCorrect*1.0/len(Y[1000:])      \n"
   ]
  },
  {
   "cell_type": "code",
   "execution_count": 85,
   "metadata": {
    "collapsed": true
   },
   "outputs": [],
   "source": [
    "featureImportance = rf.feature_importances_\n"
   ]
  },
  {
   "cell_type": "code",
   "execution_count": 86,
   "metadata": {
    "collapsed": true
   },
   "outputs": [],
   "source": [
    "featureImp = []\n",
    "for i in range(len(Features)):\n",
    "    if featureImportance[i]>0:\n",
    "        featureImp.append((Features[i],featureImportance[i]))\n"
   ]
  },
  {
   "cell_type": "code",
   "execution_count": 87,
   "metadata": {
    "collapsed": false
   },
   "outputs": [
    {
     "data": {
      "text/plain": [
       "[('PctPersDenseHous', 0.079366757950437988),\n",
       " ('PctPopUnderPov', 0.057195434470095952),\n",
       " ('racePctWhite', 0.055718311205104662),\n",
       " ('PctKids2Par', 0.048743629936113114),\n",
       " ('PctYoungKids2Par', 0.043700134906256023),\n",
       " ('PctIlleg', 0.04337644588181435),\n",
       " ('PctTeen2Par', 0.024284495477983479),\n",
       " ('PctFam2Par', 0.022425793698365497),\n",
       " ('racepctblack', 0.020111144179171966),\n",
       " ('PopDens', 0.019662311038943062),\n",
       " ('perCapInc', 0.016950856636976673),\n",
       " ('NumUnderPov', 0.014308927672348671),\n",
       " ('TotalPctDiv', 0.014266420081045316),\n",
       " ('pctWInvInc', 0.014165307745639871),\n",
       " ('HousVacant', 0.013734714299064999),\n",
       " ('MedRent', 0.013182306500764417),\n",
       " ('PctImmigRec10', 0.01236784416691338),\n",
       " ('PctSpeakEnglOnly', 0.012238475799794733),\n",
       " ('PctBornSameState', 0.011693340860639915),\n",
       " ('HispPerCap', 0.011254208816908003),\n",
       " ('PctNotSpeakEnglWell', 0.011216729534474621),\n",
       " ('PctOccupManu', 0.011084447910859234),\n",
       " ('PctEmplProfServ', 0.010993932433052885),\n",
       " ('FemalePctDiv', 0.010571491086046176),\n",
       " ('PctUnemployed', 0.010216782642764561),\n",
       " ('MedOwnCostPctInc', 0.0099128454629418845),\n",
       " ('agePct12t29', 0.0096191977178572419),\n",
       " ('OwnOccMedVal', 0.0096049754832287001),\n",
       " ('OtherPerCap', 0.0095387064018138245),\n",
       " ('PctSameState85', 0.0086132282488384643),\n",
       " ('PctRecImmig5', 0.0082142224826733425),\n",
       " ('NumIlleg', 0.0081432970724400391),\n",
       " ('PctVacantBoarded', 0.0080115699862146686),\n",
       " ('blackPerCap', 0.007900161167242601),\n",
       " ('agePct65up', 0.0077596228700279228),\n",
       " ('agePct16t24', 0.0076147674114651577),\n",
       " ('PctNotHSGrad', 0.0076013875726867793),\n",
       " ('racePctAsian', 0.0075952667056383314),\n",
       " ('medIncome', 0.0075561988987675101),\n",
       " ('numbUrban', 0.0073086813651689455),\n",
       " ('pctWRetire', 0.0073051205993558115),\n",
       " ('AsianPerCap', 0.0072371466074198434),\n",
       " ('pctWWage', 0.007233851733426405),\n",
       " ('PctSameCity85', 0.0072037554144937675),\n",
       " ('PctLargHouseOccup', 0.0068736671025135306),\n",
       " ('MedRentPctHousInc', 0.006719110712336082),\n",
       " ('PctLess9thGrade', 0.0066450243880829653),\n",
       " ('OwnOccLowQuart', 0.0066082839971371666),\n",
       " ('PctWOFullPlumb', 0.0066016874261748239),\n",
       " ('pctWPubAsst', 0.0065537464134839294),\n",
       " ('PctForeignBorn', 0.0065234894896360422),\n",
       " ('PctEmploy', 0.0063959815921198638),\n",
       " ('MedOwnCostPctIncNoMtg', 0.0061599107502018895),\n",
       " ('PctSameHouse85', 0.0060913189061238913),\n",
       " ('PctUsePubTrans', 0.0060121267622272765),\n",
       " ('racePctHisp', 0.0059272145754078751),\n",
       " ('PersPerOccupHous', 0.0059167367548024451),\n",
       " ('PctLargHouseFam', 0.005837922513552701),\n",
       " ('PctImmigRecent', 0.0058087956969938041),\n",
       " ('householdsize', 0.0057590519026743505),\n",
       " ('RentLowQ', 0.0057348549466873294),\n",
       " ('PctVacMore6Mos', 0.0056407709327894974),\n",
       " ('MalePctDivorce', 0.0056330109746599126),\n",
       " ('pctWFarmSelf', 0.0054297334702258747),\n",
       " ('PctHousOwnOcc', 0.005398944733870017),\n",
       " ('PctBSorMore', 0.0049926213205491845),\n",
       " ('PctPersOwnOccup', 0.0049668720525964018),\n",
       " ('PctImmigRec5', 0.0048974490916439684),\n",
       " ('PctImmigRec8', 0.004827710144855662),\n",
       " ('MalePctNevMarr', 0.0048098852716532189),\n",
       " ('whitePerCap', 0.004649558667187555),\n",
       " ('PctHousOccup', 0.0046439195432810502),\n",
       " ('pctWSocSec', 0.0044739421114575436),\n",
       " ('MedYrHousBuilt', 0.0044427590958292674),\n",
       " ('population', 0.0043667223463346467),\n",
       " ('PctRecImmig8', 0.0042069850419923973),\n",
       " ('PctOccupMgmtProf', 0.0041616907135992292),\n",
       " ('medFamInc', 0.0041327300790545748),\n",
       " ('PctRecImmig10', 0.0040075911216141359),\n",
       " ('PctWorkMom', 0.0040024219177707413),\n",
       " ('PctEmplManu', 0.0038718611442838009),\n",
       " ('LandArea', 0.0037873015090652009),\n",
       " ('PersPerRentOccHous', 0.0035117976612023248),\n",
       " ('PctHousNoPhone', 0.0034679176548761013),\n",
       " ('RentMedian', 0.0034298155199141587),\n",
       " ('indianPerCap', 0.0033592093229534714),\n",
       " ('OwnOccHiQuart', 0.0033535693596523893),\n",
       " ('pctUrban', 0.0031797588032819882),\n",
       " ('PersPerFam', 0.0030452073746795347),\n",
       " ('PctRecentImmig', 0.0025577456451969837),\n",
       " ('NumImmig', 0.0023700124076818929),\n",
       " ('PctWorkMomYoungKids', 0.0021879484679870149),\n",
       " ('PctHousLess3BR', 0.0021022573351097548),\n",
       " ('PersPerOwnOccHous', 0.0020889841529726822),\n",
       " ('RentHighQ', 0.0019980112090010509),\n",
       " ('agePct12t21', 0.0013455342087579606),\n",
       " ('MedNumBR', 0.00072448018546692741),\n",
       " ('NumInShelters', 0.00052816645245774472),\n",
       " ('NumStreet', 0.00043193089105743088)]"
      ]
     },
     "execution_count": 87,
     "metadata": {},
     "output_type": "execute_result"
    }
   ],
   "source": [
    "sorted(featureImp, key = lambda x:x[1],reverse= True)"
   ]
  },
  {
   "cell_type": "markdown",
   "metadata": {},
   "source": [
    "Explaination : Decision Tree Classifier\n",
    "1-b-ii ) The top features for decision tree can be found above. The reason that these are the best features is because at each split point, decision tree will choose the feature which \"best\" splits the observations. What qualifies as best varies, but generally the split is done so that the subsequent nodes are more homogenous/pure with respect to the target. There are different ways of measuring homogeneity, for example Gini, Entropy, Chi-square. \n",
    "Considering the accuracy of this alogorithm, I think new features can be added/removed to increase the accuracy of the algorithm."
   ]
  }
 ],
 "metadata": {
  "kernelspec": {
   "display_name": "Python 3",
   "language": "python",
   "name": "python3"
  },
  "language_info": {
   "codemirror_mode": {
    "name": "ipython",
    "version": 3
   },
   "file_extension": ".py",
   "mimetype": "text/x-python",
   "name": "python",
   "nbconvert_exporter": "python",
   "pygments_lexer": "ipython3",
   "version": "3.6.0"
  }
 },
 "nbformat": 4,
 "nbformat_minor": 2
}
